{
    "cells": [
        {
            "cell_type": "markdown",
            "metadata": {},
            "source": [
                "# Explore here"
            ]
        },
        {
            "cell_type": "code",
            "execution_count": 45,
            "metadata": {},
            "outputs": [],
            "source": [
                "import os\n",
                "import pandas as pd\n",
                "import matplotlib.pyplot as plt\n",
                "from dotenv import load_dotenv\n",
                "import spotipy\n",
                "from spotipy.oauth2 import SpotifyClientCredentials\n",
                "import seaborn as sns"
            ]
        },
        {
            "cell_type": "code",
            "execution_count": 46,
            "metadata": {},
            "outputs": [],
            "source": [
                "\n",
                "# load the .env file variables\n",
                "load_dotenv()\n",
                "\n",
                "# Get credential values\n",
                "client_id = os.environ.get(\"CLIENT_ID\")\n",
                "client_secret = os.environ.get(\"CLIENT_SECRET\")\n"
            ]
        },
        {
            "cell_type": "code",
            "execution_count": 47,
            "metadata": {},
            "outputs": [],
            "source": [
                "auth_manager = SpotifyClientCredentials(client_id=client_id, client_secret=client_secret)\n",
                "spotify = spotipy.Spotify(auth_manager=auth_manager)"
            ]
        },
        {
            "cell_type": "code",
            "execution_count": 48,
            "metadata": {},
            "outputs": [
                {
                    "data": {
                        "text/plain": [
                            "<spotipy.client.Spotify at 0x762d1d676f90>"
                        ]
                    },
                    "execution_count": 48,
                    "metadata": {},
                    "output_type": "execute_result"
                }
            ],
            "source": [
                "birdy_uri = 'spotify:artist:1wGIhYkKWSq4yACtTkCkSX'\n",
                "spotify\n",
                "\n",
                "#results = spotify.artist_albums(birdy_uri, album_type='album')\n",
                "#albums = results['items']\n",
                "#hile results['next']:\n",
                "#    results = spotify.next(results)\n",
                " #   albums.extend(results['items'])\n",
                "\n",
                "#for album in albums:\n",
                "#    print(album['name'])"
            ]
        },
        {
            "cell_type": "code",
            "execution_count": 49,
            "metadata": {},
            "outputs": [
                {
                    "name": "stdout",
                    "output_type": "stream",
                    "text": [
                        "Querer Querernos\n",
                        "Maquiavélico\n",
                        "Stupid Love Story\n",
                        "Es Épico\n",
                        "Pensando en Ti\n",
                        "Jeremías 17-5\n",
                        "De la Vida Como Pelicula, Tragedia, Comedia y Ficcion\n",
                        "Mundo de Piedra\n",
                        "Mañana Será Otro Día\n",
                        "Llovía\n"
                    ]
                }
            ],
            "source": [
                "results = spotify.artist_top_tracks(birdy_uri)\n",
                "tracks = results['tracks']\n",
                "for track in tracks:\n",
                "    print(track['name'])"
            ]
        },
        {
            "cell_type": "code",
            "execution_count": 54,
            "metadata": {},
            "outputs": [
                {
                    "data": {
                        "text/html": [
                            "<div>\n",
                            "<style scoped>\n",
                            "    .dataframe tbody tr th:only-of-type {\n",
                            "        vertical-align: middle;\n",
                            "    }\n",
                            "\n",
                            "    .dataframe tbody tr th {\n",
                            "        vertical-align: top;\n",
                            "    }\n",
                            "\n",
                            "    .dataframe thead th {\n",
                            "        text-align: right;\n",
                            "    }\n",
                            "</style>\n",
                            "<table border=\"1\" class=\"dataframe\">\n",
                            "  <thead>\n",
                            "    <tr style=\"text-align: right;\">\n",
                            "      <th></th>\n",
                            "      <th>name</th>\n",
                            "      <th>duration_min</th>\n",
                            "      <th>popularity</th>\n",
                            "    </tr>\n",
                            "  </thead>\n",
                            "  <tbody>\n",
                            "    <tr>\n",
                            "      <th>0</th>\n",
                            "      <td>Querer Querernos</td>\n",
                            "      <td>4:00</td>\n",
                            "      <td>76</td>\n",
                            "    </tr>\n",
                            "    <tr>\n",
                            "      <th>1</th>\n",
                            "      <td>Maquiavélico</td>\n",
                            "      <td>4:44</td>\n",
                            "      <td>74</td>\n",
                            "    </tr>\n",
                            "    <tr>\n",
                            "      <th>2</th>\n",
                            "      <td>Stupid Love Story</td>\n",
                            "      <td>4:46</td>\n",
                            "      <td>73</td>\n",
                            "    </tr>\n",
                            "    <tr>\n",
                            "      <th>3</th>\n",
                            "      <td>Es Épico</td>\n",
                            "      <td>6:01</td>\n",
                            "      <td>71</td>\n",
                            "    </tr>\n",
                            "    <tr>\n",
                            "      <th>4</th>\n",
                            "      <td>Pensando en Ti</td>\n",
                            "      <td>4:04</td>\n",
                            "      <td>71</td>\n",
                            "    </tr>\n",
                            "    <tr>\n",
                            "      <th>5</th>\n",
                            "      <td>Jeremías 17-5</td>\n",
                            "      <td>5:18</td>\n",
                            "      <td>70</td>\n",
                            "    </tr>\n",
                            "    <tr>\n",
                            "      <th>6</th>\n",
                            "      <td>De la Vida Como Pelicula, Tragedia, Comedia y ...</td>\n",
                            "      <td>8:01</td>\n",
                            "      <td>69</td>\n",
                            "    </tr>\n",
                            "    <tr>\n",
                            "      <th>7</th>\n",
                            "      <td>Mundo de Piedra</td>\n",
                            "      <td>4:44</td>\n",
                            "      <td>67</td>\n",
                            "    </tr>\n",
                            "    <tr>\n",
                            "      <th>8</th>\n",
                            "      <td>Mañana Será Otro Día</td>\n",
                            "      <td>3:17</td>\n",
                            "      <td>67</td>\n",
                            "    </tr>\n",
                            "    <tr>\n",
                            "      <th>9</th>\n",
                            "      <td>Llovía</td>\n",
                            "      <td>4:52</td>\n",
                            "      <td>66</td>\n",
                            "    </tr>\n",
                            "  </tbody>\n",
                            "</table>\n",
                            "</div>"
                        ],
                        "text/plain": [
                            "                                                name duration_min  popularity\n",
                            "0                                   Querer Querernos         4:00          76\n",
                            "1                                       Maquiavélico         4:44          74\n",
                            "2                                  Stupid Love Story         4:46          73\n",
                            "3                                           Es Épico         6:01          71\n",
                            "4                                     Pensando en Ti         4:04          71\n",
                            "5                                      Jeremías 17-5         5:18          70\n",
                            "6  De la Vida Como Pelicula, Tragedia, Comedia y ...         8:01          69\n",
                            "7                                    Mundo de Piedra         4:44          67\n",
                            "8                               Mañana Será Otro Día         3:17          67\n",
                            "9                                             Llovía         4:52          66"
                        ]
                    },
                    "execution_count": 54,
                    "metadata": {},
                    "output_type": "execute_result"
                }
            ],
            "source": [
                "df= pd.DataFrame(tracks)\n",
                "df['duration_min'] = df['duration_ms'].apply(\n",
                "    lambda x: f\"{x // 60000}:{(x % 60000) // 1000:02d}\"\n",
                ")\n",
                "df[[\"name\", \"duration_min\", \"popularity\"]]"
            ]
        },
        {
            "cell_type": "code",
            "execution_count": 51,
            "metadata": {},
            "outputs": [
                {
                    "data": {
                        "image/png": "[encoded data removed]",
                        "text/plain": [
                            "<Figure size 640x480 with 1 Axes>"
                        ]
                    },
                    "metadata": {},
                    "output_type": "display_data"
                }
            ],
            "source": [
                "plt.scatter(df['duration_min'], df['popularity'], s=400)\n",
                "\n",
                "plt.title('Popularidad vs Duración de Canciones')\n",
                "plt.xlabel('Duración (minutos)')\n",
                "plt.ylabel('Popularidad')\n",
                "plt.grid(True)\n",
                "\n",
                "plt.show()"
            ]
        }
    ],
    "metadata": {
        "kernelspec": {
            "display_name": "Python 3",
            "language": "python",
            "name": "python3"
        },
        "language_info": {
            "codemirror_mode": {
                "name": "ipython",
                "version": 3
            },
            "file_extension": ".py",
            "mimetype": "text/x-python",
            "name": "python",
            "nbconvert_exporter": "python",
            "pygments_lexer": "ipython3",
            "version": "3.11.4"
        },
        "orig_nbformat": 4
    },
    "nbformat": 4,
    "nbformat_minor": 2
}
